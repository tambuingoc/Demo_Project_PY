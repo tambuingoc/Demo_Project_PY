{
 "cells": [
  {
   "cell_type": "code",
   "execution_count": 2,
   "metadata": {},
   "outputs": [],
   "source": [
    "import pandas as pd\n",
    "import numpy as np\n",
    "import matplotlib.pyplot as plt\n",
    "# from sklearn.preprocessing import MinMaxScaler\n",
    "from sklearn.preprocessing import StandardScaler\n",
    "from tensorflow.keras.models import Sequential\n",
    "from tensorflow.keras.layers import LSTM\n",
    "from tensorflow.keras.layers import Dense\n",
    "from tensorflow.keras.layers import Dropout\n",
    "\n"
   ]
  },
  {
   "cell_type": "code",
   "execution_count": 27,
   "metadata": {},
   "outputs": [],
   "source": [
    "year_2021 = pd.read_csv('Data_PY/DATA_2021.csv')\n",
    "year_training = year_2021[:282]\n",
    "\n",
    "year_test = year_2021[283:]\n"
   ]
  },
  {
   "cell_type": "code",
   "execution_count": 38,
   "metadata": {},
   "outputs": [
    {
     "data": {
      "text/plain": [
       "94"
      ]
     },
     "execution_count": 38,
     "metadata": {},
     "output_type": "execute_result"
    }
   ],
   "source": [
    "#Device train, test\n",
    "Nhiet_do_training = year_training.copy().drop(['YYYY','MM','DD','TIME','DOMAN','PH','NH3','H2S','TSS','DO','COD'], axis = 1)\n",
    "Nhiet_do_test = year_test.copy().drop(['YYYY','MM','DD','TIME','DOMAN','PH','NH3','H2S','TSS','DO','COD'], axis = 1)\n"
   ]
  },
  {
   "cell_type": "code",
   "execution_count": 37,
   "metadata": {},
   "outputs": [
    {
     "data": {
      "text/html": [
       "<div>\n",
       "<style scoped>\n",
       "    .dataframe tbody tr th:only-of-type {\n",
       "        vertical-align: middle;\n",
       "    }\n",
       "\n",
       "    .dataframe tbody tr th {\n",
       "        vertical-align: top;\n",
       "    }\n",
       "\n",
       "    .dataframe thead th {\n",
       "        text-align: right;\n",
       "    }\n",
       "</style>\n",
       "<table border=\"1\" class=\"dataframe\">\n",
       "  <thead>\n",
       "    <tr style=\"text-align: right;\">\n",
       "      <th></th>\n",
       "      <th>TEMP</th>\n",
       "    </tr>\n",
       "  </thead>\n",
       "  <tbody>\n",
       "    <tr>\n",
       "      <th>0</th>\n",
       "      <td>32.0</td>\n",
       "    </tr>\n",
       "    <tr>\n",
       "      <th>1</th>\n",
       "      <td>33.0</td>\n",
       "    </tr>\n",
       "    <tr>\n",
       "      <th>2</th>\n",
       "      <td>32.0</td>\n",
       "    </tr>\n",
       "    <tr>\n",
       "      <th>3</th>\n",
       "      <td>31.0</td>\n",
       "    </tr>\n",
       "    <tr>\n",
       "      <th>4</th>\n",
       "      <td>33.0</td>\n",
       "    </tr>\n",
       "    <tr>\n",
       "      <th>...</th>\n",
       "      <td>...</td>\n",
       "    </tr>\n",
       "    <tr>\n",
       "      <th>277</th>\n",
       "      <td>30.0</td>\n",
       "    </tr>\n",
       "    <tr>\n",
       "      <th>278</th>\n",
       "      <td>30.0</td>\n",
       "    </tr>\n",
       "    <tr>\n",
       "      <th>279</th>\n",
       "      <td>29.5</td>\n",
       "    </tr>\n",
       "    <tr>\n",
       "      <th>280</th>\n",
       "      <td>32.0</td>\n",
       "    </tr>\n",
       "    <tr>\n",
       "      <th>281</th>\n",
       "      <td>32.0</td>\n",
       "    </tr>\n",
       "  </tbody>\n",
       "</table>\n",
       "<p>282 rows × 1 columns</p>\n",
       "</div>"
      ],
      "text/plain": [
       "     TEMP\n",
       "0    32.0\n",
       "1    33.0\n",
       "2    32.0\n",
       "3    31.0\n",
       "4    33.0\n",
       "..    ...\n",
       "277  30.0\n",
       "278  30.0\n",
       "279  29.5\n",
       "280  32.0\n",
       "281  32.0\n",
       "\n",
       "[282 rows x 1 columns]"
      ]
     },
     "execution_count": 37,
     "metadata": {},
     "output_type": "execute_result"
    }
   ],
   "source": [
    "Nhiet_do_training"
   ]
  },
  {
   "cell_type": "markdown",
   "metadata": {},
   "source": [
    "### MinMaxScaler"
   ]
  },
  {
   "cell_type": "code",
   "execution_count": 7,
   "metadata": {},
   "outputs": [],
   "source": [
    "# #scaler train, test\n",
    "# scaler = MinMaxScaler()\n",
    "# Nhiet_do_training = scaler.fit_transform(Nhiet_do_training)\n",
    "# Nhiet_do_test = scaler.fit_transform(Nhiet_do_test)\n"
   ]
  },
  {
   "cell_type": "markdown",
   "metadata": {},
   "source": [
    "### Standas Scaler"
   ]
  },
  {
   "cell_type": "code",
   "execution_count": 39,
   "metadata": {},
   "outputs": [],
   "source": [
    "#Standas Scaler\n",
    "scaler = StandardScaler()\n",
    "Nhiet_do_training = scaler.fit_transform(Nhiet_do_training)\n",
    "Nhiet_do_test = scaler.fit_transform(Nhiet_do_test)\n",
    "\n"
   ]
  },
  {
   "cell_type": "code",
   "execution_count": 40,
   "metadata": {},
   "outputs": [
    {
     "data": {
      "text/plain": [
       "array([[ 0.94274607],\n",
       "       [ 1.56462768],\n",
       "       [ 0.94274607],\n",
       "       [ 0.32086445],\n",
       "       [ 1.56462768],\n",
       "       [ 1.25368688],\n",
       "       [ 0.94274607],\n",
       "       [-0.92289878],\n",
       "       [ 0.94274607],\n",
       "       [ 1.56462768],\n",
       "       [ 0.94274607],\n",
       "       [ 0.63180526],\n",
       "       [ 0.94274607],\n",
       "       [ 1.56462768],\n",
       "       [ 1.25368688],\n",
       "       [ 0.94274607],\n",
       "       [ 0.94274607],\n",
       "       [-0.92289878],\n",
       "       [-0.92289878],\n",
       "       [ 1.56462768],\n",
       "       [ 1.56462768],\n",
       "       [ 1.56462768],\n",
       "       [-0.92289878],\n",
       "       [ 1.56462768],\n",
       "       [ 0.94274607],\n",
       "       [-0.92289878],\n",
       "       [-0.92289878],\n",
       "       [ 0.94274607],\n",
       "       [ 0.32086445],\n",
       "       [-0.30101717],\n",
       "       [ 0.94274607],\n",
       "       [-6.51983333],\n",
       "       [-0.92289878],\n",
       "       [ 0.94274607],\n",
       "       [-0.92289878],\n",
       "       [-1.5447804 ],\n",
       "       [ 0.32086445],\n",
       "       [-0.30101717],\n",
       "       [ 0.32086445],\n",
       "       [ 0.32086445],\n",
       "       [-0.30101717],\n",
       "       [-0.30101717],\n",
       "       [ 0.32086445],\n",
       "       [ 0.94274607],\n",
       "       [-0.30101717],\n",
       "       [-1.23383959],\n",
       "       [-1.5447804 ],\n",
       "       [ 1.56462768],\n",
       "       [ 0.94274607],\n",
       "       [ 0.94274607],\n",
       "       [ 0.63180526],\n",
       "       [ 0.32086445],\n",
       "       [ 1.56462768],\n",
       "       [ 1.56462768],\n",
       "       [ 1.56462768],\n",
       "       [ 0.94274607],\n",
       "       [ 0.63180526],\n",
       "       [ 2.1865093 ],\n",
       "       [ 0.32086445],\n",
       "       [ 0.32086445],\n",
       "       [ 0.32086445],\n",
       "       [ 0.32086445],\n",
       "       [-0.30101717],\n",
       "       [-0.92289878],\n",
       "       [-1.23383959],\n",
       "       [-1.23383959],\n",
       "       [ 0.94274607],\n",
       "       [ 0.32086445],\n",
       "       [-0.30101717],\n",
       "       [-0.30101717],\n",
       "       [-0.30101717],\n",
       "       [-0.92289878],\n",
       "       [-1.23383959],\n",
       "       [-0.30101717],\n",
       "       [-1.5447804 ],\n",
       "       [-0.30101717],\n",
       "       [-0.92289878],\n",
       "       [-0.30101717],\n",
       "       [-0.92289878],\n",
       "       [ 0.32086445],\n",
       "       [-0.30101717],\n",
       "       [-0.30101717],\n",
       "       [ 0.32086445],\n",
       "       [-0.30101717],\n",
       "       [-0.92289878],\n",
       "       [ 0.94274607],\n",
       "       [ 0.32086445],\n",
       "       [-0.30101717],\n",
       "       [-0.92289878],\n",
       "       [-1.5447804 ],\n",
       "       [-1.5447804 ],\n",
       "       [ 0.32086445],\n",
       "       [ 0.32086445],\n",
       "       [ 0.32086445],\n",
       "       [-0.92289878],\n",
       "       [-0.30101717],\n",
       "       [ 0.32086445],\n",
       "       [-0.30101717],\n",
       "       [-0.30101717],\n",
       "       [ 0.32086445],\n",
       "       [ 0.32086445],\n",
       "       [-0.30101717],\n",
       "       [ 0.94274607],\n",
       "       [ 0.32086445],\n",
       "       [ 0.32086445],\n",
       "       [-0.92289878],\n",
       "       [-1.23383959],\n",
       "       [-1.23383959],\n",
       "       [ 0.32086445],\n",
       "       [-0.92289878],\n",
       "       [ 0.32086445],\n",
       "       [-1.5447804 ],\n",
       "       [-0.92289878],\n",
       "       [-0.30101717],\n",
       "       [ 0.32086445],\n",
       "       [ 0.32086445],\n",
       "       [ 0.00992364],\n",
       "       [-0.30101717],\n",
       "       [-2.16666201],\n",
       "       [-2.78854363],\n",
       "       [-2.78854363],\n",
       "       [-0.30101717],\n",
       "       [-0.30101717],\n",
       "       [-0.30101717],\n",
       "       [-0.92289878],\n",
       "       [ 0.32086445],\n",
       "       [-0.30101717],\n",
       "       [-0.30101717],\n",
       "       [ 0.94274607],\n",
       "       [ 0.94274607],\n",
       "       [-0.92289878],\n",
       "       [-0.92289878],\n",
       "       [ 0.32086445],\n",
       "       [-0.30101717],\n",
       "       [-0.30101717],\n",
       "       [-0.92289878],\n",
       "       [-0.92289878],\n",
       "       [-0.30101717],\n",
       "       [-0.92289878],\n",
       "       [ 0.94274607],\n",
       "       [ 0.94274607],\n",
       "       [ 0.32086445],\n",
       "       [ 0.94274607],\n",
       "       [ 0.32086445],\n",
       "       [-0.30101717],\n",
       "       [-0.92289878],\n",
       "       [-0.92289878],\n",
       "       [-1.5447804 ],\n",
       "       [ 0.94274607],\n",
       "       [ 0.94274607],\n",
       "       [ 0.94274607],\n",
       "       [ 1.56462768],\n",
       "       [ 0.94274607],\n",
       "       [-0.30101717],\n",
       "       [ 0.94274607],\n",
       "       [ 0.94274607],\n",
       "       [ 0.63180526],\n",
       "       [ 0.94274607],\n",
       "       [ 0.94274607],\n",
       "       [ 0.32086445],\n",
       "       [ 0.94274607],\n",
       "       [ 0.32086445],\n",
       "       [-0.30101717],\n",
       "       [-0.92289878],\n",
       "       [-1.5447804 ],\n",
       "       [-1.5447804 ],\n",
       "       [ 0.32086445],\n",
       "       [-0.92289878],\n",
       "       [ 0.94274607],\n",
       "       [ 0.32086445],\n",
       "       [ 0.94274607],\n",
       "       [ 0.32086445],\n",
       "       [ 0.32086445],\n",
       "       [ 1.56462768],\n",
       "       [ 1.56462768],\n",
       "       [-0.92289878],\n",
       "       [-0.92289878],\n",
       "       [-1.23383959],\n",
       "       [ 0.94274607],\n",
       "       [ 0.94274607],\n",
       "       [ 0.32086445],\n",
       "       [ 0.94274607],\n",
       "       [ 0.94274607],\n",
       "       [ 0.94274607],\n",
       "       [ 0.94274607],\n",
       "       [-0.30101717],\n",
       "       [ 0.32086445],\n",
       "       [ 0.94274607],\n",
       "       [ 0.63180526],\n",
       "       [ 0.63180526],\n",
       "       [-0.92289878],\n",
       "       [-1.23383959],\n",
       "       [-1.23383959],\n",
       "       [ 0.94274607],\n",
       "       [ 0.94274607],\n",
       "       [ 0.32086445],\n",
       "       [ 0.94274607],\n",
       "       [ 0.32086445],\n",
       "       [ 0.32086445],\n",
       "       [ 0.32086445],\n",
       "       [ 0.32086445],\n",
       "       [-0.30101717],\n",
       "       [-0.30101717],\n",
       "       [-0.61195797],\n",
       "       [ 1.25368688],\n",
       "       [ 0.94274607],\n",
       "       [ 0.94274607],\n",
       "       [-0.30101717],\n",
       "       [-0.30101717],\n",
       "       [ 0.32086445],\n",
       "       [ 0.32086445],\n",
       "       [ 0.00992364],\n",
       "       [ 0.94274607],\n",
       "       [ 0.32086445],\n",
       "       [ 0.32086445],\n",
       "       [ 1.56462768],\n",
       "       [ 1.56462768],\n",
       "       [ 1.56462768],\n",
       "       [ 0.32086445],\n",
       "       [ 0.94274607],\n",
       "       [-0.92289878],\n",
       "       [-2.16666201],\n",
       "       [-0.92289878],\n",
       "       [-0.92289878],\n",
       "       [-0.92289878],\n",
       "       [-0.92289878],\n",
       "       [-1.23383959],\n",
       "       [-0.61195797],\n",
       "       [-0.30101717],\n",
       "       [-0.92289878],\n",
       "       [-0.92289878],\n",
       "       [-0.30101717],\n",
       "       [-0.92289878],\n",
       "       [-1.23383959],\n",
       "       [-1.23383959],\n",
       "       [ 0.32086445],\n",
       "       [ 0.32086445],\n",
       "       [ 0.32086445],\n",
       "       [-1.23383959],\n",
       "       [-0.92289878],\n",
       "       [-1.23383959],\n",
       "       [-1.5447804 ],\n",
       "       [-0.92289878],\n",
       "       [-0.30101717],\n",
       "       [-0.30101717],\n",
       "       [ 0.94274607],\n",
       "       [-0.30101717],\n",
       "       [-0.92289878],\n",
       "       [-0.92289878],\n",
       "       [ 1.56462768],\n",
       "       [-0.30101717],\n",
       "       [-0.92289878],\n",
       "       [-0.92289878],\n",
       "       [ 0.94274607],\n",
       "       [ 1.56462768],\n",
       "       [ 0.32086445],\n",
       "       [ 1.56462768],\n",
       "       [ 1.56462768],\n",
       "       [ 0.94274607],\n",
       "       [-0.30101717],\n",
       "       [ 0.32086445],\n",
       "       [-0.92289878],\n",
       "       [-0.92289878],\n",
       "       [-0.92289878],\n",
       "       [-0.92289878],\n",
       "       [-0.92289878],\n",
       "       [-0.30101717],\n",
       "       [ 0.32086445],\n",
       "       [ 0.32086445],\n",
       "       [ 0.32086445],\n",
       "       [-0.61195797],\n",
       "       [-0.30101717],\n",
       "       [-0.30101717],\n",
       "       [-0.92289878],\n",
       "       [ 0.32086445],\n",
       "       [ 0.32086445],\n",
       "       [-0.30101717],\n",
       "       [-0.30101717],\n",
       "       [-0.30101717],\n",
       "       [-0.61195797],\n",
       "       [ 0.94274607],\n",
       "       [ 0.94274607]])"
      ]
     },
     "execution_count": 40,
     "metadata": {},
     "output_type": "execute_result"
    }
   ],
   "source": [
    "Nhiet_do_training"
   ]
  },
  {
   "cell_type": "code",
   "execution_count": 41,
   "metadata": {},
   "outputs": [],
   "source": [
    "#Dùng 60 i put để dự đoán 1 output\n",
    "def get_X_y(data_train):\n",
    "    Nhiet_do_X = []\n",
    "    Nhiet_do_y = []\n",
    "\n",
    "    for i in range(60, data_train.shape[0]):\n",
    "        Nhiet_do_X.append(data_train[i-60:i,0])\n",
    "        Nhiet_do_y.append(data_train[i,0])\n",
    "\n",
    "    Nhiet_do_X = np.array(Nhiet_do_X)\n",
    "    Nhiet_do_y = np.array(Nhiet_do_y)\n",
    "\n",
    "    return Nhiet_do_X, Nhiet_do_y"
   ]
  },
  {
   "cell_type": "code",
   "execution_count": 42,
   "metadata": {},
   "outputs": [],
   "source": [
    "Nhiet_do_X_train, Nhiet_do_y_train = get_X_y(Nhiet_do_training)"
   ]
  },
  {
   "cell_type": "code",
   "execution_count": 43,
   "metadata": {},
   "outputs": [
    {
     "data": {
      "text/plain": [
       "array([[ 0.94274607,  1.56462768,  0.94274607, ...,  2.1865093 ,\n",
       "         0.32086445,  0.32086445],\n",
       "       [ 1.56462768,  0.94274607,  0.32086445, ...,  0.32086445,\n",
       "         0.32086445,  0.32086445],\n",
       "       [ 0.94274607,  0.32086445,  1.56462768, ...,  0.32086445,\n",
       "         0.32086445,  0.32086445],\n",
       "       ...,\n",
       "       [ 0.94274607, -0.92289878, -2.16666201, ..., -0.30101717,\n",
       "        -0.30101717, -0.30101717],\n",
       "       [-0.92289878, -2.16666201, -0.92289878, ..., -0.30101717,\n",
       "        -0.30101717, -0.61195797],\n",
       "       [-2.16666201, -0.92289878, -0.92289878, ..., -0.30101717,\n",
       "        -0.61195797,  0.94274607]])"
      ]
     },
     "execution_count": 43,
     "metadata": {},
     "output_type": "execute_result"
    }
   ],
   "source": [
    "Nhiet_do_X_train"
   ]
  },
  {
   "cell_type": "code",
   "execution_count": 44,
   "metadata": {},
   "outputs": [],
   "source": [
    "Nhiet_do_X_test, Nhiet_do_y_test = get_X_y(Nhiet_do_test)"
   ]
  },
  {
   "cell_type": "code",
   "execution_count": 47,
   "metadata": {},
   "outputs": [
    {
     "data": {
      "text/plain": [
       "array([[ 1.68334202,  1.68334202, -1.22770057, ...,         nan,\n",
       "        -1.22770057, -1.22770057],\n",
       "       [ 1.68334202, -1.22770057, -1.22770057, ..., -1.22770057,\n",
       "        -1.22770057, -0.93659631],\n",
       "       [-1.22770057, -1.22770057,  0.51892498, ..., -1.22770057,\n",
       "        -0.93659631, -1.22770057],\n",
       "       ...,\n",
       "       [ 1.1011335 ,  0.81002924,  0.51892498, ..., -1.22770057,\n",
       "        -1.22770057, -0.93659631],\n",
       "       [ 0.81002924,  0.51892498,  1.39223776, ..., -1.22770057,\n",
       "        -0.93659631, -1.22770057],\n",
       "       [ 0.51892498,  1.39223776,  1.1011335 , ..., -0.93659631,\n",
       "        -1.22770057, -1.22770057]])"
      ]
     },
     "execution_count": 47,
     "metadata": {},
     "output_type": "execute_result"
    }
   ],
   "source": [
    "Nhiet_do_X_test"
   ]
  },
  {
   "cell_type": "code",
   "execution_count": 13,
   "metadata": {},
   "outputs": [
    {
     "data": {
      "text/plain": [
       "(222, 60, 1)"
      ]
     },
     "execution_count": 13,
     "metadata": {},
     "output_type": "execute_result"
    }
   ],
   "source": [
    "# #cấu hình lại đầu vào\n",
    "# #cấu hình lại x\n",
    "# Nhiet_do_X_train = np.reshape(Nhiet_do_X_train, (Nhiet_do_X_train.shape[0],Nhiet_do_X_train.shape[1], 1))\n",
    "# Nhiet_do_X_train.shape"
   ]
  },
  {
   "cell_type": "code",
   "execution_count": 48,
   "metadata": {},
   "outputs": [],
   "source": [
    "#xây dựng mô hình LSTM đầu tiên\n",
    "#activation: hàm kích hoạt\n",
    "LSTM_model = Sequential()\n",
    "LSTM_model.add(LSTM(units = 60, activation = 'relu', return_sequences= True, input_shape = (Nhiet_do_X_train.shape[1], 1)))\n",
    "LSTM_model.add(Dropout(0.1))"
   ]
  },
  {
   "cell_type": "code",
   "execution_count": 49,
   "metadata": {},
   "outputs": [],
   "source": [
    "#xây dựng các lớp LSTM tiếp theo\n",
    "LSTM_model.add(LSTM(units = 60, activation = 'relu', return_sequences = True))\n",
    "LSTM_model.add(Dropout(0.1))\n",
    "\n",
    "LSTM_model.add(LSTM(units = 80, activation = 'relu', return_sequences = True))\n",
    "LSTM_model.add(Dropout(0.1))\n",
    "\n",
    "LSTM_model.add(LSTM(units = 120, activation = 'relu'))\n",
    "LSTM_model.add(Dropout(0.1))"
   ]
  },
  {
   "cell_type": "code",
   "execution_count": 50,
   "metadata": {},
   "outputs": [],
   "source": [
    "#xây dựng lớp đầu ra\n",
    "LSTM_model.add(Dense(units = 1))"
   ]
  },
  {
   "cell_type": "code",
   "execution_count": 51,
   "metadata": {},
   "outputs": [
    {
     "name": "stdout",
     "output_type": "stream",
     "text": [
      "Model: \"sequential_1\"\n",
      "_________________________________________________________________\n",
      " Layer (type)                Output Shape              Param #   \n",
      "=================================================================\n",
      " lstm_4 (LSTM)               (None, 60, 60)            14880     \n",
      "                                                                 \n",
      " dropout_4 (Dropout)         (None, 60, 60)            0         \n",
      "                                                                 \n",
      " lstm_5 (LSTM)               (None, 60, 60)            29040     \n",
      "                                                                 \n",
      " dropout_5 (Dropout)         (None, 60, 60)            0         \n",
      "                                                                 \n",
      " lstm_6 (LSTM)               (None, 60, 80)            45120     \n",
      "                                                                 \n",
      " dropout_6 (Dropout)         (None, 60, 80)            0         \n",
      "                                                                 \n",
      " lstm_7 (LSTM)               (None, 120)               96480     \n",
      "                                                                 \n",
      " dropout_7 (Dropout)         (None, 120)               0         \n",
      "                                                                 \n",
      " dense_1 (Dense)             (None, 1)                 121       \n",
      "                                                                 \n",
      "=================================================================\n",
      "Total params: 185,641\n",
      "Trainable params: 185,641\n",
      "Non-trainable params: 0\n",
      "_________________________________________________________________\n"
     ]
    }
   ],
   "source": [
    "LSTM_model.summary()"
   ]
  },
  {
   "cell_type": "code",
   "execution_count": 52,
   "metadata": {},
   "outputs": [],
   "source": [
    "#Đào tạo lại mô hình(Compile model)\n",
    "LSTM_model.compile(optimizer = 'adam', loss = 'mean_squared_error')"
   ]
  },
  {
   "cell_type": "code",
   "execution_count": 53,
   "metadata": {},
   "outputs": [
    {
     "name": "stdout",
     "output_type": "stream",
     "text": [
      "Epoch 1/50\n",
      "7/7 [==============================] - 8s 141ms/step - loss: 0.7764\n",
      "Epoch 2/50\n",
      "7/7 [==============================] - 1s 139ms/step - loss: 0.7714\n",
      "Epoch 3/50\n",
      "7/7 [==============================] - 1s 126ms/step - loss: 0.7668\n",
      "Epoch 4/50\n",
      "7/7 [==============================] - 1s 135ms/step - loss: 0.7664\n",
      "Epoch 5/50\n",
      "7/7 [==============================] - 1s 122ms/step - loss: 0.7652\n",
      "Epoch 6/50\n",
      "7/7 [==============================] - 1s 123ms/step - loss: 0.7641\n",
      "Epoch 7/50\n",
      "7/7 [==============================] - 1s 123ms/step - loss: 0.7614\n",
      "Epoch 8/50\n",
      "7/7 [==============================] - 1s 127ms/step - loss: 0.7595\n",
      "Epoch 9/50\n",
      "7/7 [==============================] - 1s 126ms/step - loss: 0.7568\n",
      "Epoch 10/50\n",
      "7/7 [==============================] - 1s 128ms/step - loss: 0.7593\n",
      "Epoch 11/50\n",
      "7/7 [==============================] - 1s 128ms/step - loss: 0.7545\n",
      "Epoch 12/50\n",
      "7/7 [==============================] - 1s 122ms/step - loss: 0.7415\n",
      "Epoch 13/50\n",
      "7/7 [==============================] - 1s 130ms/step - loss: 0.7385\n",
      "Epoch 14/50\n",
      "7/7 [==============================] - 1s 124ms/step - loss: 0.7445\n",
      "Epoch 15/50\n",
      "7/7 [==============================] - 1s 129ms/step - loss: 0.7358\n",
      "Epoch 16/50\n",
      "7/7 [==============================] - 1s 127ms/step - loss: 0.7377\n",
      "Epoch 17/50\n",
      "7/7 [==============================] - 1s 128ms/step - loss: 0.7332\n",
      "Epoch 18/50\n",
      "7/7 [==============================] - 1s 126ms/step - loss: 0.7367\n",
      "Epoch 19/50\n",
      "7/7 [==============================] - 1s 130ms/step - loss: 0.7276\n",
      "Epoch 20/50\n",
      "7/7 [==============================] - 1s 129ms/step - loss: 0.7189\n",
      "Epoch 21/50\n",
      "7/7 [==============================] - 1s 130ms/step - loss: 0.7084\n",
      "Epoch 22/50\n",
      "7/7 [==============================] - 1s 129ms/step - loss: 0.7007\n",
      "Epoch 23/50\n",
      "7/7 [==============================] - 1s 128ms/step - loss: 0.6889\n",
      "Epoch 24/50\n",
      "7/7 [==============================] - 1s 130ms/step - loss: 0.6707\n",
      "Epoch 25/50\n",
      "7/7 [==============================] - 1s 128ms/step - loss: 0.6555\n",
      "Epoch 26/50\n",
      "7/7 [==============================] - 1s 131ms/step - loss: 0.7167\n",
      "Epoch 27/50\n",
      "7/7 [==============================] - 1s 130ms/step - loss: 0.7018\n",
      "Epoch 28/50\n",
      "7/7 [==============================] - 1s 131ms/step - loss: 0.6949\n",
      "Epoch 29/50\n",
      "7/7 [==============================] - 1s 127ms/step - loss: 0.6686\n",
      "Epoch 30/50\n",
      "7/7 [==============================] - 1s 129ms/step - loss: 0.6434\n",
      "Epoch 31/50\n",
      "7/7 [==============================] - 1s 129ms/step - loss: 0.6465\n",
      "Epoch 32/50\n",
      "7/7 [==============================] - 1s 128ms/step - loss: 0.6451\n",
      "Epoch 33/50\n",
      "7/7 [==============================] - 1s 129ms/step - loss: 0.6312\n",
      "Epoch 34/50\n",
      "7/7 [==============================] - 1s 127ms/step - loss: 0.6281\n",
      "Epoch 35/50\n",
      "7/7 [==============================] - 1s 128ms/step - loss: 0.6147\n",
      "Epoch 36/50\n",
      "7/7 [==============================] - 1s 127ms/step - loss: 0.5969\n",
      "Epoch 37/50\n",
      "7/7 [==============================] - 1s 130ms/step - loss: 0.6098\n",
      "Epoch 38/50\n",
      "7/7 [==============================] - 1s 127ms/step - loss: 0.6306\n",
      "Epoch 39/50\n",
      "7/7 [==============================] - 1s 133ms/step - loss: 0.6034\n",
      "Epoch 40/50\n",
      "7/7 [==============================] - 1s 126ms/step - loss: 0.6600\n",
      "Epoch 41/50\n",
      "7/7 [==============================] - 1s 129ms/step - loss: 0.6452\n",
      "Epoch 42/50\n",
      "7/7 [==============================] - 1s 127ms/step - loss: 0.6272\n",
      "Epoch 43/50\n",
      "7/7 [==============================] - 1s 129ms/step - loss: 0.6054\n",
      "Epoch 44/50\n",
      "7/7 [==============================] - 1s 128ms/step - loss: 0.6091\n",
      "Epoch 45/50\n",
      "7/7 [==============================] - 1s 128ms/step - loss: 0.5673\n",
      "Epoch 46/50\n",
      "7/7 [==============================] - 1s 131ms/step - loss: 0.5752\n",
      "Epoch 47/50\n",
      "7/7 [==============================] - 1s 127ms/step - loss: 31014.3359\n",
      "Epoch 48/50\n",
      "7/7 [==============================] - 1s 129ms/step - loss: 37343300.0000\n",
      "Epoch 49/50\n",
      "7/7 [==============================] - 1s 126ms/step - loss: 0.7398\n",
      "Epoch 50/50\n",
      "7/7 [==============================] - 1s 133ms/step - loss: 0.7697\n"
     ]
    },
    {
     "data": {
      "text/plain": [
       "<keras.callbacks.History at 0x2602b6be0d0>"
      ]
     },
     "execution_count": 53,
     "metadata": {},
     "output_type": "execute_result"
    }
   ],
   "source": [
    "\n",
    "LSTM_model.fit(Nhiet_do_X_train, Nhiet_do_y_train, epochs = 50, batch_size = 32)"
   ]
  },
  {
   "cell_type": "code",
   "execution_count": 54,
   "metadata": {},
   "outputs": [],
   "source": [
    "#save model\n",
    "LSTM_model.save('LSTM_model_2021_demo.h5')"
   ]
  },
  {
   "cell_type": "code",
   "execution_count": 55,
   "metadata": {},
   "outputs": [
    {
     "name": "stdout",
     "output_type": "stream",
     "text": [
      "2/2 [==============================] - 1s 24ms/step\n"
     ]
    },
    {
     "data": {
      "text/plain": [
       "array([[nan],\n",
       "       [nan],\n",
       "       [nan],\n",
       "       [nan],\n",
       "       [nan],\n",
       "       [nan],\n",
       "       [nan],\n",
       "       [nan],\n",
       "       [nan],\n",
       "       [nan],\n",
       "       [nan],\n",
       "       [nan],\n",
       "       [nan],\n",
       "       [nan],\n",
       "       [nan],\n",
       "       [nan],\n",
       "       [nan],\n",
       "       [nan],\n",
       "       [nan],\n",
       "       [nan],\n",
       "       [nan],\n",
       "       [nan],\n",
       "       [nan],\n",
       "       [nan],\n",
       "       [nan],\n",
       "       [nan],\n",
       "       [nan],\n",
       "       [nan],\n",
       "       [nan],\n",
       "       [nan],\n",
       "       [nan],\n",
       "       [nan],\n",
       "       [nan],\n",
       "       [nan]], dtype=float32)"
      ]
     },
     "execution_count": 55,
     "metadata": {},
     "output_type": "execute_result"
    }
   ],
   "source": [
    "#đào tạo mô hình\n",
    "Nhiet_do_y_pred_LSTM_model = LSTM_model.predict(Nhiet_do_X_test)\n",
    "Nhiet_do_y_pred_LSTM_model#do X_test dc scaler nên _test thuộc [0,1]\n"
   ]
  },
  {
   "cell_type": "code",
   "execution_count": 56,
   "metadata": {},
   "outputs": [
    {
     "data": {
      "text/plain": [
       "array([[nan],\n",
       "       [nan],\n",
       "       [nan],\n",
       "       [nan],\n",
       "       [nan],\n",
       "       [nan],\n",
       "       [nan],\n",
       "       [nan],\n",
       "       [nan],\n",
       "       [nan],\n",
       "       [nan],\n",
       "       [nan],\n",
       "       [nan],\n",
       "       [nan],\n",
       "       [nan],\n",
       "       [nan],\n",
       "       [nan],\n",
       "       [nan],\n",
       "       [nan],\n",
       "       [nan],\n",
       "       [nan],\n",
       "       [nan],\n",
       "       [nan],\n",
       "       [nan],\n",
       "       [nan],\n",
       "       [nan],\n",
       "       [nan],\n",
       "       [nan],\n",
       "       [nan],\n",
       "       [nan],\n",
       "       [nan],\n",
       "       [nan],\n",
       "       [nan],\n",
       "       [nan]], dtype=float32)"
      ]
     },
     "execution_count": 56,
     "metadata": {},
     "output_type": "execute_result"
    }
   ],
   "source": [
    "Nhiet_do_y_pred_LSTM_model = scaler.inverse_transform(Nhiet_do_y_pred_LSTM_model)\n",
    "Nhiet_do_y_pred_LSTM_model"
   ]
  },
  {
   "cell_type": "code",
   "execution_count": 60,
   "metadata": {},
   "outputs": [
    {
     "data": {
      "text/plain": [
       "array([[25.5],\n",
       "       [25. ],\n",
       "       [25. ],\n",
       "       [26. ],\n",
       "       [25. ],\n",
       "       [25.5],\n",
       "       [25.5],\n",
       "       [25. ],\n",
       "       [25. ],\n",
       "       [25. ],\n",
       "       [29.5],\n",
       "       [29. ],\n",
       "       [29. ],\n",
       "       [29.5],\n",
       "       [29. ],\n",
       "       [29. ],\n",
       "       [28. ],\n",
       "       [28. ],\n",
       "       [28. ],\n",
       "       [28.5],\n",
       "       [28. ],\n",
       "       [28. ],\n",
       "       [25. ],\n",
       "       [25. ],\n",
       "       [25.5],\n",
       "       [24.5],\n",
       "       [25. ],\n",
       "       [25. ],\n",
       "       [25. ],\n",
       "       [25. ],\n",
       "       [25.5],\n",
       "       [25. ],\n",
       "       [25. ],\n",
       "       [25. ]])"
      ]
     },
     "execution_count": 60,
     "metadata": {},
     "output_type": "execute_result"
    }
   ],
   "source": [
    "Nhiet_do_y_test.shape = (Nhiet_do_y_test.size, 1)\n",
    "Nhiet_do_y_test = scaler.inverse_transform(Nhiet_do_y_test)\n",
    "Nhiet_do_y_test"
   ]
  },
  {
   "cell_type": "code",
   "execution_count": 61,
   "metadata": {},
   "outputs": [
    {
     "data": {
      "image/png": "[encoded data removed]",
      "text/plain": [
       "<Figure size 1400x500 with 1 Axes>"
      ]
     },
     "metadata": {},
     "output_type": "display_data"
    }
   ],
   "source": [
    "plt.figure(figsize=(14,5))\n",
    "plt.plot(Nhiet_do_y_test, color = 'red', label = 'Actual')\n",
    "plt.plot(Nhiet_do_y_pred_LSTM_model, color = 'blue', label = 'Forecast')\n",
    "plt.title('Compare Weather Forecast vs Actual')\n",
    "plt.xlabel('Time')\n",
    "plt.ylabel('Salinity')\n",
    "plt.legend()\n",
    "plt.show()\n"
   ]
  }
 ],
 "metadata": {
  "kernelspec": {
   "display_name": "Python 3.9.15 ('tf-gpu')",
   "language": "python",
   "name": "python3"
  },
  "language_info": {
   "codemirror_mode": {
    "name": "ipython",
    "version": 3
   },
   "file_extension": ".py",
   "mimetype": "text/x-python",
   "name": "python",
   "nbconvert_exporter": "python",
   "pygments_lexer": "ipython3",
   "version": "3.9.15"
  },
  "orig_nbformat": 4,
  "vscode": {
   "interpreter": {
    "hash": "b6c0ba649dbe20eb25d8caa371f9be91aaac62735d4e5cecc3028d83f4a29e16"
   }
  }
 },
 "nbformat": 4,
 "nbformat_minor": 2
}
